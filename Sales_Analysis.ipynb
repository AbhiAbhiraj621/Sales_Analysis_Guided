{
  "nbformat": 4,
  "nbformat_minor": 0,
  "metadata": {
    "colab": {
      "name": "Sales_Analysis_Guided.ipynb",
      "provenance": [],
      "authorship_tag": "ABX9TyMuYtAGQBEN+KZtlg/44fM+",
      "include_colab_link": true
    },
    "kernelspec": {
      "name": "python3",
      "display_name": "Python 3"
    },
    "language_info": {
      "name": "python"
    }
  },
  "cells": [
    {
      "cell_type": "markdown",
      "metadata": {
        "id": "view-in-github",
        "colab_type": "text"
      },
      "source": [
        "<a href=\"https://colab.research.google.com/github/AbhiAbhiraj621/Sales_Analysis_Guided/blob/main/Sales_Analysis.ipynb\" target=\"_parent\"><img src=\"https://colab.research.google.com/assets/colab-badge.svg\" alt=\"Open In Colab\"/></a>"
      ]
    },
    {
      "cell_type": "code",
      "metadata": {
        "id": "GF35UYzTMZIW"
      },
      "source": [
        "import pandas as pd\n",
        "import os"
      ],
      "execution_count": null,
      "outputs": []
    },
    {
      "cell_type": "markdown",
      "metadata": {
        "id": "YXDfaQN-M8-R"
      },
      "source": [
        "Merge 12 months of data into a single file"
      ]
    },
    {
      "cell_type": "code",
      "metadata": {
        "id": "Q-FnJIaEjmtY"
      },
      "source": [
        "path = \"/content/Sales_Data\"\n",
        "files = [file for file in os.listdir(path) if not file.startswith('.')] # Ignore hidden files\n",
        "\n",
        "all_months_data = pd.DataFrame()\n",
        "\n",
        "for file in files:\n",
        "    current_data = pd.read_csv(path+\"/\"+file)\n",
        "    all_months_data = pd.concat([all_months_data, current_data])\n",
        "    \n",
        "all_months_data.to_csv(\"all_data_copy.csv\", index=False)"
      ],
      "execution_count": null,
      "outputs": []
    },
    {
      "cell_type": "markdown",
      "metadata": {
        "id": "S2H_GCRPkZc2"
      },
      "source": [
        "If directory doesn't have hidden files then use below code to read and concat."
      ]
    },
    {
      "cell_type": "code",
      "metadata": {
        "id": "jmvGF7okM1-1"
      },
      "source": [
        "df = pd.read_csv(\"/content/Sales_Data/Sales_April_2019.csv\")\n",
        "files = [file for file in os.listdir('/content/Sales_Data')]\n",
        "\n",
        "all_months_data = pd.DataFrame()\n",
        "\n",
        "for file in files:\n",
        "  df = pd.read_csv(\"/content/Sales_Data/\"+file,engine='python')\n",
        "  all_months_data = pd.concat([all_months_data,df])\n",
        "\n",
        "\n",
        "#all_months_data.tail()"
      ],
      "execution_count": null,
      "outputs": []
    },
    {
      "cell_type": "code",
      "metadata": {
        "id": "3iGs-YBRZor1"
      },
      "source": [
        "#all_months_data.to_csv(\"all_data_copy.csv\",index=False)"
      ],
      "execution_count": null,
      "outputs": []
    },
    {
      "cell_type": "code",
      "metadata": {
        "colab": {
          "base_uri": "https://localhost:8080/",
          "height": 310
        },
        "id": "W-J6XF_OOYo5",
        "outputId": "aaeebb1a-326d-447e-c789-9e5898a29629"
      },
      "source": [
        "all_data=pd.read_csv(\"/content/all_data_copy.csv\")\n",
        "all_data.head()"
      ],
      "execution_count": null,
      "outputs": [
        {
          "output_type": "execute_result",
          "data": {
            "text/html": [
              "<div>\n",
              "<style scoped>\n",
              "    .dataframe tbody tr th:only-of-type {\n",
              "        vertical-align: middle;\n",
              "    }\n",
              "\n",
              "    .dataframe tbody tr th {\n",
              "        vertical-align: top;\n",
              "    }\n",
              "\n",
              "    .dataframe thead th {\n",
              "        text-align: right;\n",
              "    }\n",
              "</style>\n",
              "<table border=\"1\" class=\"dataframe\">\n",
              "  <thead>\n",
              "    <tr style=\"text-align: right;\">\n",
              "      <th></th>\n",
              "      <th>Order ID</th>\n",
              "      <th>Product</th>\n",
              "      <th>Quantity Ordered</th>\n",
              "      <th>Price Each</th>\n",
              "      <th>Order Date</th>\n",
              "      <th>Purchase Address</th>\n",
              "    </tr>\n",
              "  </thead>\n",
              "  <tbody>\n",
              "    <tr>\n",
              "      <th>0</th>\n",
              "      <td>162009</td>\n",
              "      <td>iPhone</td>\n",
              "      <td>1</td>\n",
              "      <td>700</td>\n",
              "      <td>03/28/19 20:59</td>\n",
              "      <td>942 Church St, Austin, TX 73301</td>\n",
              "    </tr>\n",
              "    <tr>\n",
              "      <th>1</th>\n",
              "      <td>162009</td>\n",
              "      <td>Lightning Charging Cable</td>\n",
              "      <td>1</td>\n",
              "      <td>14.95</td>\n",
              "      <td>03/28/19 20:59</td>\n",
              "      <td>942 Church St, Austin, TX 73301</td>\n",
              "    </tr>\n",
              "    <tr>\n",
              "      <th>2</th>\n",
              "      <td>162009</td>\n",
              "      <td>Wired Headphones</td>\n",
              "      <td>2</td>\n",
              "      <td>11.99</td>\n",
              "      <td>03/28/19 20:59</td>\n",
              "      <td>942 Church St, Austin, TX 73301</td>\n",
              "    </tr>\n",
              "    <tr>\n",
              "      <th>3</th>\n",
              "      <td>162010</td>\n",
              "      <td>Bose SoundSport Headphones</td>\n",
              "      <td>1</td>\n",
              "      <td>99.99</td>\n",
              "      <td>03/17/19 05:39</td>\n",
              "      <td>261 10th St, San Francisco, CA 94016</td>\n",
              "    </tr>\n",
              "    <tr>\n",
              "      <th>4</th>\n",
              "      <td>162011</td>\n",
              "      <td>34in Ultrawide Monitor</td>\n",
              "      <td>1</td>\n",
              "      <td>379.99</td>\n",
              "      <td>03/10/19 00:01</td>\n",
              "      <td>764 13th St, San Francisco, CA 94016</td>\n",
              "    </tr>\n",
              "  </tbody>\n",
              "</table>\n",
              "</div>"
            ],
            "text/plain": [
              "  Order ID  ...                      Purchase Address\n",
              "0   162009  ...       942 Church St, Austin, TX 73301\n",
              "1   162009  ...       942 Church St, Austin, TX 73301\n",
              "2   162009  ...       942 Church St, Austin, TX 73301\n",
              "3   162010  ...  261 10th St, San Francisco, CA 94016\n",
              "4   162011  ...  764 13th St, San Francisco, CA 94016\n",
              "\n",
              "[5 rows x 6 columns]"
            ]
          },
          "metadata": {},
          "execution_count": 6
        }
      ]
    },
    {
      "cell_type": "markdown",
      "metadata": {
        "id": "h3d7_dvKc34V"
      },
      "source": [
        "Clean the data"
      ]
    },
    {
      "cell_type": "code",
      "metadata": {
        "colab": {
          "base_uri": "https://localhost:8080/",
          "height": 310
        },
        "id": "6a3yKRzxcZ5Y",
        "outputId": "3971c496-ce1a-4b39-b0bf-6c8ce9265ffb"
      },
      "source": [
        "nan_df = all_data[all_data.isna().any(axis=1)]\n",
        "nan_df.head()\n",
        "\n",
        "all_data = all_data.dropna(how='all')\n",
        "all_data.head()"
      ],
      "execution_count": null,
      "outputs": [
        {
          "output_type": "execute_result",
          "data": {
            "text/html": [
              "<div>\n",
              "<style scoped>\n",
              "    .dataframe tbody tr th:only-of-type {\n",
              "        vertical-align: middle;\n",
              "    }\n",
              "\n",
              "    .dataframe tbody tr th {\n",
              "        vertical-align: top;\n",
              "    }\n",
              "\n",
              "    .dataframe thead th {\n",
              "        text-align: right;\n",
              "    }\n",
              "</style>\n",
              "<table border=\"1\" class=\"dataframe\">\n",
              "  <thead>\n",
              "    <tr style=\"text-align: right;\">\n",
              "      <th></th>\n",
              "      <th>Order ID</th>\n",
              "      <th>Product</th>\n",
              "      <th>Quantity Ordered</th>\n",
              "      <th>Price Each</th>\n",
              "      <th>Order Date</th>\n",
              "      <th>Purchase Address</th>\n",
              "    </tr>\n",
              "  </thead>\n",
              "  <tbody>\n",
              "    <tr>\n",
              "      <th>0</th>\n",
              "      <td>162009</td>\n",
              "      <td>iPhone</td>\n",
              "      <td>1</td>\n",
              "      <td>700</td>\n",
              "      <td>03/28/19 20:59</td>\n",
              "      <td>942 Church St, Austin, TX 73301</td>\n",
              "    </tr>\n",
              "    <tr>\n",
              "      <th>1</th>\n",
              "      <td>162009</td>\n",
              "      <td>Lightning Charging Cable</td>\n",
              "      <td>1</td>\n",
              "      <td>14.95</td>\n",
              "      <td>03/28/19 20:59</td>\n",
              "      <td>942 Church St, Austin, TX 73301</td>\n",
              "    </tr>\n",
              "    <tr>\n",
              "      <th>2</th>\n",
              "      <td>162009</td>\n",
              "      <td>Wired Headphones</td>\n",
              "      <td>2</td>\n",
              "      <td>11.99</td>\n",
              "      <td>03/28/19 20:59</td>\n",
              "      <td>942 Church St, Austin, TX 73301</td>\n",
              "    </tr>\n",
              "    <tr>\n",
              "      <th>3</th>\n",
              "      <td>162010</td>\n",
              "      <td>Bose SoundSport Headphones</td>\n",
              "      <td>1</td>\n",
              "      <td>99.99</td>\n",
              "      <td>03/17/19 05:39</td>\n",
              "      <td>261 10th St, San Francisco, CA 94016</td>\n",
              "    </tr>\n",
              "    <tr>\n",
              "      <th>4</th>\n",
              "      <td>162011</td>\n",
              "      <td>34in Ultrawide Monitor</td>\n",
              "      <td>1</td>\n",
              "      <td>379.99</td>\n",
              "      <td>03/10/19 00:01</td>\n",
              "      <td>764 13th St, San Francisco, CA 94016</td>\n",
              "    </tr>\n",
              "  </tbody>\n",
              "</table>\n",
              "</div>"
            ],
            "text/plain": [
              "  Order ID  ...                      Purchase Address\n",
              "0   162009  ...       942 Church St, Austin, TX 73301\n",
              "1   162009  ...       942 Church St, Austin, TX 73301\n",
              "2   162009  ...       942 Church St, Austin, TX 73301\n",
              "3   162010  ...  261 10th St, San Francisco, CA 94016\n",
              "4   162011  ...  764 13th St, San Francisco, CA 94016\n",
              "\n",
              "[5 rows x 6 columns]"
            ]
          },
          "metadata": {},
          "execution_count": 7
        }
      ]
    },
    {
      "cell_type": "code",
      "metadata": {
        "id": "m74qFM92duhX"
      },
      "source": [
        "all_data = all_data[all_data['Order Date'].str[0:2] != 'Or']"
      ],
      "execution_count": null,
      "outputs": []
    },
    {
      "cell_type": "markdown",
      "metadata": {
        "id": "g86t7L8MecP-"
      },
      "source": [
        "Convert column to correct datatype"
      ]
    },
    {
      "cell_type": "code",
      "metadata": {
        "id": "fBZumwFNeh7D"
      },
      "source": [
        "all_data['Quantity Ordered'] = pd.to_numeric(all_data['Quantity Ordered'])\n",
        "all_data['Price Each'] = pd.to_numeric(all_data['Price Each'])"
      ],
      "execution_count": null,
      "outputs": []
    },
    {
      "cell_type": "markdown",
      "metadata": {
        "id": "GSTcr2AdbfE4"
      },
      "source": [
        "#Adding Additional columns"
      ]
    },
    {
      "cell_type": "markdown",
      "metadata": {
        "id": "f0NYD2i1bmnO"
      },
      "source": [
        "####Add Month column"
      ]
    },
    {
      "cell_type": "code",
      "metadata": {
        "id": "V5rKsLW0bhqC"
      },
      "source": [
        "all_data['Month'] = all_data['Order Date'].str[0:2]\n",
        "all_data['Month'] = all_data['Month'].astype('int32')"
      ],
      "execution_count": null,
      "outputs": []
    },
    {
      "cell_type": "code",
      "metadata": {
        "colab": {
          "base_uri": "https://localhost:8080/",
          "height": 310
        },
        "id": "A6In4nRgbjUf",
        "outputId": "4c2c2923-cff8-4511-c856-ef503901bc07"
      },
      "source": [
        "all_data.head()"
      ],
      "execution_count": null,
      "outputs": [
        {
          "output_type": "execute_result",
          "data": {
            "text/html": [
              "<div>\n",
              "<style scoped>\n",
              "    .dataframe tbody tr th:only-of-type {\n",
              "        vertical-align: middle;\n",
              "    }\n",
              "\n",
              "    .dataframe tbody tr th {\n",
              "        vertical-align: top;\n",
              "    }\n",
              "\n",
              "    .dataframe thead th {\n",
              "        text-align: right;\n",
              "    }\n",
              "</style>\n",
              "<table border=\"1\" class=\"dataframe\">\n",
              "  <thead>\n",
              "    <tr style=\"text-align: right;\">\n",
              "      <th></th>\n",
              "      <th>Order ID</th>\n",
              "      <th>Product</th>\n",
              "      <th>Quantity Ordered</th>\n",
              "      <th>Price Each</th>\n",
              "      <th>Order Date</th>\n",
              "      <th>Purchase Address</th>\n",
              "      <th>Month</th>\n",
              "    </tr>\n",
              "  </thead>\n",
              "  <tbody>\n",
              "    <tr>\n",
              "      <th>0</th>\n",
              "      <td>162009</td>\n",
              "      <td>iPhone</td>\n",
              "      <td>1</td>\n",
              "      <td>700.00</td>\n",
              "      <td>03/28/19 20:59</td>\n",
              "      <td>942 Church St, Austin, TX 73301</td>\n",
              "      <td>3</td>\n",
              "    </tr>\n",
              "    <tr>\n",
              "      <th>1</th>\n",
              "      <td>162009</td>\n",
              "      <td>Lightning Charging Cable</td>\n",
              "      <td>1</td>\n",
              "      <td>14.95</td>\n",
              "      <td>03/28/19 20:59</td>\n",
              "      <td>942 Church St, Austin, TX 73301</td>\n",
              "      <td>3</td>\n",
              "    </tr>\n",
              "    <tr>\n",
              "      <th>2</th>\n",
              "      <td>162009</td>\n",
              "      <td>Wired Headphones</td>\n",
              "      <td>2</td>\n",
              "      <td>11.99</td>\n",
              "      <td>03/28/19 20:59</td>\n",
              "      <td>942 Church St, Austin, TX 73301</td>\n",
              "      <td>3</td>\n",
              "    </tr>\n",
              "    <tr>\n",
              "      <th>3</th>\n",
              "      <td>162010</td>\n",
              "      <td>Bose SoundSport Headphones</td>\n",
              "      <td>1</td>\n",
              "      <td>99.99</td>\n",
              "      <td>03/17/19 05:39</td>\n",
              "      <td>261 10th St, San Francisco, CA 94016</td>\n",
              "      <td>3</td>\n",
              "    </tr>\n",
              "    <tr>\n",
              "      <th>4</th>\n",
              "      <td>162011</td>\n",
              "      <td>34in Ultrawide Monitor</td>\n",
              "      <td>1</td>\n",
              "      <td>379.99</td>\n",
              "      <td>03/10/19 00:01</td>\n",
              "      <td>764 13th St, San Francisco, CA 94016</td>\n",
              "      <td>3</td>\n",
              "    </tr>\n",
              "  </tbody>\n",
              "</table>\n",
              "</div>"
            ],
            "text/plain": [
              "  Order ID  ... Month\n",
              "0   162009  ...     3\n",
              "1   162009  ...     3\n",
              "2   162009  ...     3\n",
              "3   162010  ...     3\n",
              "4   162011  ...     3\n",
              "\n",
              "[5 rows x 7 columns]"
            ]
          },
          "metadata": {},
          "execution_count": 11
        }
      ]
    },
    {
      "cell_type": "markdown",
      "metadata": {
        "id": "f5NSWkgteFHZ"
      },
      "source": [
        "####Add Sales Column\n"
      ]
    },
    {
      "cell_type": "code",
      "metadata": {
        "colab": {
          "base_uri": "https://localhost:8080/",
          "height": 310
        },
        "id": "SbpuT87sbj4y",
        "outputId": "c76efe8b-f49a-42b9-8285-ea1f92907c6c"
      },
      "source": [
        "all_data['Sales'] = all_data['Quantity Ordered'] * all_data['Price Each']\n",
        "all_data.head()"
      ],
      "execution_count": null,
      "outputs": [
        {
          "output_type": "execute_result",
          "data": {
            "text/html": [
              "<div>\n",
              "<style scoped>\n",
              "    .dataframe tbody tr th:only-of-type {\n",
              "        vertical-align: middle;\n",
              "    }\n",
              "\n",
              "    .dataframe tbody tr th {\n",
              "        vertical-align: top;\n",
              "    }\n",
              "\n",
              "    .dataframe thead th {\n",
              "        text-align: right;\n",
              "    }\n",
              "</style>\n",
              "<table border=\"1\" class=\"dataframe\">\n",
              "  <thead>\n",
              "    <tr style=\"text-align: right;\">\n",
              "      <th></th>\n",
              "      <th>Order ID</th>\n",
              "      <th>Product</th>\n",
              "      <th>Quantity Ordered</th>\n",
              "      <th>Price Each</th>\n",
              "      <th>Order Date</th>\n",
              "      <th>Purchase Address</th>\n",
              "      <th>Month</th>\n",
              "      <th>Sales</th>\n",
              "    </tr>\n",
              "  </thead>\n",
              "  <tbody>\n",
              "    <tr>\n",
              "      <th>0</th>\n",
              "      <td>162009</td>\n",
              "      <td>iPhone</td>\n",
              "      <td>1</td>\n",
              "      <td>700.00</td>\n",
              "      <td>03/28/19 20:59</td>\n",
              "      <td>942 Church St, Austin, TX 73301</td>\n",
              "      <td>3</td>\n",
              "      <td>700.00</td>\n",
              "    </tr>\n",
              "    <tr>\n",
              "      <th>1</th>\n",
              "      <td>162009</td>\n",
              "      <td>Lightning Charging Cable</td>\n",
              "      <td>1</td>\n",
              "      <td>14.95</td>\n",
              "      <td>03/28/19 20:59</td>\n",
              "      <td>942 Church St, Austin, TX 73301</td>\n",
              "      <td>3</td>\n",
              "      <td>14.95</td>\n",
              "    </tr>\n",
              "    <tr>\n",
              "      <th>2</th>\n",
              "      <td>162009</td>\n",
              "      <td>Wired Headphones</td>\n",
              "      <td>2</td>\n",
              "      <td>11.99</td>\n",
              "      <td>03/28/19 20:59</td>\n",
              "      <td>942 Church St, Austin, TX 73301</td>\n",
              "      <td>3</td>\n",
              "      <td>23.98</td>\n",
              "    </tr>\n",
              "    <tr>\n",
              "      <th>3</th>\n",
              "      <td>162010</td>\n",
              "      <td>Bose SoundSport Headphones</td>\n",
              "      <td>1</td>\n",
              "      <td>99.99</td>\n",
              "      <td>03/17/19 05:39</td>\n",
              "      <td>261 10th St, San Francisco, CA 94016</td>\n",
              "      <td>3</td>\n",
              "      <td>99.99</td>\n",
              "    </tr>\n",
              "    <tr>\n",
              "      <th>4</th>\n",
              "      <td>162011</td>\n",
              "      <td>34in Ultrawide Monitor</td>\n",
              "      <td>1</td>\n",
              "      <td>379.99</td>\n",
              "      <td>03/10/19 00:01</td>\n",
              "      <td>764 13th St, San Francisco, CA 94016</td>\n",
              "      <td>3</td>\n",
              "      <td>379.99</td>\n",
              "    </tr>\n",
              "  </tbody>\n",
              "</table>\n",
              "</div>"
            ],
            "text/plain": [
              "  Order ID                     Product  ...  Month   Sales\n",
              "0   162009                      iPhone  ...      3  700.00\n",
              "1   162009    Lightning Charging Cable  ...      3   14.95\n",
              "2   162009            Wired Headphones  ...      3   23.98\n",
              "3   162010  Bose SoundSport Headphones  ...      3   99.99\n",
              "4   162011      34in Ultrawide Monitor  ...      3  379.99\n",
              "\n",
              "[5 rows x 8 columns]"
            ]
          },
          "metadata": {},
          "execution_count": 12
        }
      ]
    },
    {
      "cell_type": "markdown",
      "metadata": {
        "id": "ty9aHT03hrbU"
      },
      "source": [
        "####Adding a city column"
      ]
    },
    {
      "cell_type": "code",
      "metadata": {
        "colab": {
          "base_uri": "https://localhost:8080/",
          "height": 345
        },
        "id": "kqO15DJDhqcj",
        "outputId": "b0842f87-50db-454b-d6ed-1aeb3f79be9f"
      },
      "source": [
        "def get_city(address):\n",
        "  return address.split(',')[1]\n",
        "\n",
        "def get_state(address):\n",
        "  return address.split(',')[2].split(' ')[1]\n",
        "\n",
        "all_data['City'] = all_data['Purchase Address'].apply(lambda x: get_city(x) + ' (' + get_state(x) + ') ')\n",
        "\n",
        "all_data.head()"
      ],
      "execution_count": null,
      "outputs": [
        {
          "output_type": "execute_result",
          "data": {
            "text/html": [
              "<div>\n",
              "<style scoped>\n",
              "    .dataframe tbody tr th:only-of-type {\n",
              "        vertical-align: middle;\n",
              "    }\n",
              "\n",
              "    .dataframe tbody tr th {\n",
              "        vertical-align: top;\n",
              "    }\n",
              "\n",
              "    .dataframe thead th {\n",
              "        text-align: right;\n",
              "    }\n",
              "</style>\n",
              "<table border=\"1\" class=\"dataframe\">\n",
              "  <thead>\n",
              "    <tr style=\"text-align: right;\">\n",
              "      <th></th>\n",
              "      <th>Order ID</th>\n",
              "      <th>Product</th>\n",
              "      <th>Quantity Ordered</th>\n",
              "      <th>Price Each</th>\n",
              "      <th>Order Date</th>\n",
              "      <th>Purchase Address</th>\n",
              "      <th>Month</th>\n",
              "      <th>Sales</th>\n",
              "      <th>City</th>\n",
              "    </tr>\n",
              "  </thead>\n",
              "  <tbody>\n",
              "    <tr>\n",
              "      <th>0</th>\n",
              "      <td>162009</td>\n",
              "      <td>iPhone</td>\n",
              "      <td>1</td>\n",
              "      <td>700.00</td>\n",
              "      <td>03/28/19 20:59</td>\n",
              "      <td>942 Church St, Austin, TX 73301</td>\n",
              "      <td>3</td>\n",
              "      <td>700.00</td>\n",
              "      <td>Austin (TX)</td>\n",
              "    </tr>\n",
              "    <tr>\n",
              "      <th>1</th>\n",
              "      <td>162009</td>\n",
              "      <td>Lightning Charging Cable</td>\n",
              "      <td>1</td>\n",
              "      <td>14.95</td>\n",
              "      <td>03/28/19 20:59</td>\n",
              "      <td>942 Church St, Austin, TX 73301</td>\n",
              "      <td>3</td>\n",
              "      <td>14.95</td>\n",
              "      <td>Austin (TX)</td>\n",
              "    </tr>\n",
              "    <tr>\n",
              "      <th>2</th>\n",
              "      <td>162009</td>\n",
              "      <td>Wired Headphones</td>\n",
              "      <td>2</td>\n",
              "      <td>11.99</td>\n",
              "      <td>03/28/19 20:59</td>\n",
              "      <td>942 Church St, Austin, TX 73301</td>\n",
              "      <td>3</td>\n",
              "      <td>23.98</td>\n",
              "      <td>Austin (TX)</td>\n",
              "    </tr>\n",
              "    <tr>\n",
              "      <th>3</th>\n",
              "      <td>162010</td>\n",
              "      <td>Bose SoundSport Headphones</td>\n",
              "      <td>1</td>\n",
              "      <td>99.99</td>\n",
              "      <td>03/17/19 05:39</td>\n",
              "      <td>261 10th St, San Francisco, CA 94016</td>\n",
              "      <td>3</td>\n",
              "      <td>99.99</td>\n",
              "      <td>San Francisco (CA)</td>\n",
              "    </tr>\n",
              "    <tr>\n",
              "      <th>4</th>\n",
              "      <td>162011</td>\n",
              "      <td>34in Ultrawide Monitor</td>\n",
              "      <td>1</td>\n",
              "      <td>379.99</td>\n",
              "      <td>03/10/19 00:01</td>\n",
              "      <td>764 13th St, San Francisco, CA 94016</td>\n",
              "      <td>3</td>\n",
              "      <td>379.99</td>\n",
              "      <td>San Francisco (CA)</td>\n",
              "    </tr>\n",
              "  </tbody>\n",
              "</table>\n",
              "</div>"
            ],
            "text/plain": [
              "  Order ID                     Product  ...   Sales                  City\n",
              "0   162009                      iPhone  ...  700.00          Austin (TX) \n",
              "1   162009    Lightning Charging Cable  ...   14.95          Austin (TX) \n",
              "2   162009            Wired Headphones  ...   23.98          Austin (TX) \n",
              "3   162010  Bose SoundSport Headphones  ...   99.99   San Francisco (CA) \n",
              "4   162011      34in Ultrawide Monitor  ...  379.99   San Francisco (CA) \n",
              "\n",
              "[5 rows x 9 columns]"
            ]
          },
          "metadata": {},
          "execution_count": 13
        }
      ]
    },
    {
      "cell_type": "code",
      "metadata": {
        "id": "S--TsRVdbkJg"
      },
      "source": [
        ""
      ],
      "execution_count": null,
      "outputs": []
    },
    {
      "cell_type": "markdown",
      "metadata": {
        "id": "7LDLIzW1bK4h"
      },
      "source": [
        "##What was the best month for Sales? How much was earned that month?"
      ]
    },
    {
      "cell_type": "code",
      "metadata": {
        "id": "YnIiACdUOYo5"
      },
      "source": [
        "results = all_data.groupby('Month').sum()"
      ],
      "execution_count": null,
      "outputs": []
    },
    {
      "cell_type": "code",
      "metadata": {
        "colab": {
          "base_uri": "https://localhost:8080/",
          "height": 307
        },
        "id": "z81M3kAlM2Vf",
        "outputId": "9e72374f-8fdb-4ebc-e5fc-85c01be0987e"
      },
      "source": [
        "import matplotlib.pyplot as plt\n",
        "\n",
        "months = range(1,13)\n",
        "\n",
        "plt.bar(months,results['Sales'])\n",
        "plt.xticks(months)\n",
        "plt.ylabel('Sales')\n",
        "plt.xlabel('Month')"
      ],
      "execution_count": null,
      "outputs": [
        {
          "output_type": "execute_result",
          "data": {
            "text/plain": [
              "Text(0.5, 0, 'Month')"
            ]
          },
          "metadata": {},
          "execution_count": 15
        },
        {
          "output_type": "display_data",
          "data": {
            "image/png": "[encoded data removed]",
            "text/plain": [
              "<Figure size 432x288 with 1 Axes>"
            ]
          },
          "metadata": {
            "needs_background": "light"
          }
        }
      ]
    },
    {
      "cell_type": "markdown",
      "metadata": {
        "id": "FOv3hFTtgcUp"
      },
      "source": [
        "##What city had the highest number of Sales?"
      ]
    },
    {
      "cell_type": "code",
      "metadata": {
        "colab": {
          "base_uri": "https://localhost:8080/",
          "height": 394
        },
        "id": "uoAFewOAghnO",
        "outputId": "bc78aade-34ee-4b08-b111-d0ed19a1c812"
      },
      "source": [
        "results = all_data.groupby('City').sum()\n",
        "results"
      ],
      "execution_count": null,
      "outputs": [
        {
          "output_type": "execute_result",
          "data": {
            "text/html": [
              "<div>\n",
              "<style scoped>\n",
              "    .dataframe tbody tr th:only-of-type {\n",
              "        vertical-align: middle;\n",
              "    }\n",
              "\n",
              "    .dataframe tbody tr th {\n",
              "        vertical-align: top;\n",
              "    }\n",
              "\n",
              "    .dataframe thead th {\n",
              "        text-align: right;\n",
              "    }\n",
              "</style>\n",
              "<table border=\"1\" class=\"dataframe\">\n",
              "  <thead>\n",
              "    <tr style=\"text-align: right;\">\n",
              "      <th></th>\n",
              "      <th>Quantity Ordered</th>\n",
              "      <th>Price Each</th>\n",
              "      <th>Month</th>\n",
              "      <th>Sales</th>\n",
              "    </tr>\n",
              "    <tr>\n",
              "      <th>City</th>\n",
              "      <th></th>\n",
              "      <th></th>\n",
              "      <th></th>\n",
              "      <th></th>\n",
              "    </tr>\n",
              "  </thead>\n",
              "  <tbody>\n",
              "    <tr>\n",
              "      <th>Atlanta (GA)</th>\n",
              "      <td>16602</td>\n",
              "      <td>2.779908e+06</td>\n",
              "      <td>104794</td>\n",
              "      <td>2.795499e+06</td>\n",
              "    </tr>\n",
              "    <tr>\n",
              "      <th>Austin (TX)</th>\n",
              "      <td>11153</td>\n",
              "      <td>1.809874e+06</td>\n",
              "      <td>69829</td>\n",
              "      <td>1.819582e+06</td>\n",
              "    </tr>\n",
              "    <tr>\n",
              "      <th>Boston (MA)</th>\n",
              "      <td>22528</td>\n",
              "      <td>3.637410e+06</td>\n",
              "      <td>141112</td>\n",
              "      <td>3.661642e+06</td>\n",
              "    </tr>\n",
              "    <tr>\n",
              "      <th>Dallas (TX)</th>\n",
              "      <td>16730</td>\n",
              "      <td>2.752628e+06</td>\n",
              "      <td>104620</td>\n",
              "      <td>2.767975e+06</td>\n",
              "    </tr>\n",
              "    <tr>\n",
              "      <th>Los Angeles (CA)</th>\n",
              "      <td>33289</td>\n",
              "      <td>5.421435e+06</td>\n",
              "      <td>208325</td>\n",
              "      <td>5.452571e+06</td>\n",
              "    </tr>\n",
              "    <tr>\n",
              "      <th>New York City (NY)</th>\n",
              "      <td>27932</td>\n",
              "      <td>4.635371e+06</td>\n",
              "      <td>175741</td>\n",
              "      <td>4.664317e+06</td>\n",
              "    </tr>\n",
              "    <tr>\n",
              "      <th>Portland (ME)</th>\n",
              "      <td>2750</td>\n",
              "      <td>4.471893e+05</td>\n",
              "      <td>17144</td>\n",
              "      <td>4.497583e+05</td>\n",
              "    </tr>\n",
              "    <tr>\n",
              "      <th>Portland (OR)</th>\n",
              "      <td>11303</td>\n",
              "      <td>1.860558e+06</td>\n",
              "      <td>70621</td>\n",
              "      <td>1.870732e+06</td>\n",
              "    </tr>\n",
              "    <tr>\n",
              "      <th>San Francisco (CA)</th>\n",
              "      <td>50239</td>\n",
              "      <td>8.211462e+06</td>\n",
              "      <td>315520</td>\n",
              "      <td>8.262204e+06</td>\n",
              "    </tr>\n",
              "    <tr>\n",
              "      <th>Seattle (WA)</th>\n",
              "      <td>16553</td>\n",
              "      <td>2.733296e+06</td>\n",
              "      <td>104941</td>\n",
              "      <td>2.747755e+06</td>\n",
              "    </tr>\n",
              "  </tbody>\n",
              "</table>\n",
              "</div>"
            ],
            "text/plain": [
              "                      Quantity Ordered    Price Each   Month         Sales\n",
              "City                                                                      \n",
              " Atlanta (GA)                    16602  2.779908e+06  104794  2.795499e+06\n",
              " Austin (TX)                     11153  1.809874e+06   69829  1.819582e+06\n",
              " Boston (MA)                     22528  3.637410e+06  141112  3.661642e+06\n",
              " Dallas (TX)                     16730  2.752628e+06  104620  2.767975e+06\n",
              " Los Angeles (CA)                33289  5.421435e+06  208325  5.452571e+06\n",
              " New York City (NY)              27932  4.635371e+06  175741  4.664317e+06\n",
              " Portland (ME)                    2750  4.471893e+05   17144  4.497583e+05\n",
              " Portland (OR)                   11303  1.860558e+06   70621  1.870732e+06\n",
              " San Francisco (CA)              50239  8.211462e+06  315520  8.262204e+06\n",
              " Seattle (WA)                    16553  2.733296e+06  104941  2.747755e+06"
            ]
          },
          "metadata": {},
          "execution_count": 16
        }
      ]
    },
    {
      "cell_type": "code",
      "metadata": {
        "colab": {
          "base_uri": "https://localhost:8080/",
          "height": 537
        },
        "id": "mmpXJG9fgVbw",
        "outputId": "4c025526-88e4-471e-fed6-57c1028708d5"
      },
      "source": [
        "cities = [city for city,df in all_data.groupby('City')]\n",
        "\n",
        "plt.bar(cities,results['Sales'])\n",
        "plt.xticks(cities,rotation='vertical',size=8)"
      ],
      "execution_count": null,
      "outputs": [
        {
          "output_type": "execute_result",
          "data": {
            "text/plain": [
              "([<matplotlib.axis.XTick at 0x7fd19d390fd0>,\n",
              "  <matplotlib.axis.XTick at 0x7fd19d3904d0>,\n",
              "  <matplotlib.axis.XTick at 0x7fd1a8cef190>,\n",
              "  <matplotlib.axis.XTick at 0x7fd19ce67e90>,\n",
              "  <matplotlib.axis.XTick at 0x7fd19ce76550>,\n",
              "  <matplotlib.axis.XTick at 0x7fd19ce76a90>,\n",
              "  <matplotlib.axis.XTick at 0x7fd19ce76d10>,\n",
              "  <matplotlib.axis.XTick at 0x7fd19ce7d310>,\n",
              "  <matplotlib.axis.XTick at 0x7fd19ce7d7d0>,\n",
              "  <matplotlib.axis.XTick at 0x7fd19ce7dd10>],\n",
              " <a list of 10 Text major ticklabel objects>)"
            ]
          },
          "metadata": {},
          "execution_count": 17
        },
        {
          "output_type": "display_data",
          "data": {
            "image/png": "[encoded data removed]",
            "text/plain": [
              "<Figure size 432x288 with 1 Axes>"
            ]
          },
          "metadata": {
            "needs_background": "light"
          }
        }
      ]
    },
    {
      "cell_type": "markdown",
      "metadata": {
        "id": "YB85BActlaHU"
      },
      "source": [
        "##What time should we display the ads to maximize the likelihood of customer's buying product?"
      ]
    },
    {
      "cell_type": "code",
      "metadata": {
        "id": "DcENYtz8gWEc"
      },
      "source": [
        "all_data['Order Date'] = pd.to_datetime(all_data['Order Date'])"
      ],
      "execution_count": null,
      "outputs": []
    },
    {
      "cell_type": "code",
      "metadata": {
        "colab": {
          "base_uri": "https://localhost:8080/",
          "height": 397
        },
        "id": "ko3KsBfmmZ5G",
        "outputId": "b817ce3a-8621-4b2d-908b-8357e5c960e4"
      },
      "source": [
        "all_data['Hour'] = all_data['Order Date'].dt.hour\n",
        "all_data['Minute'] = all_data['Order Date'].dt.minute\n",
        "all_data.head()"
      ],
      "execution_count": null,
      "outputs": [
        {
          "output_type": "execute_result",
          "data": {
            "text/html": [
              "<div>\n",
              "<style scoped>\n",
              "    .dataframe tbody tr th:only-of-type {\n",
              "        vertical-align: middle;\n",
              "    }\n",
              "\n",
              "    .dataframe tbody tr th {\n",
              "        vertical-align: top;\n",
              "    }\n",
              "\n",
              "    .dataframe thead th {\n",
              "        text-align: right;\n",
              "    }\n",
              "</style>\n",
              "<table border=\"1\" class=\"dataframe\">\n",
              "  <thead>\n",
              "    <tr style=\"text-align: right;\">\n",
              "      <th></th>\n",
              "      <th>Order ID</th>\n",
              "      <th>Product</th>\n",
              "      <th>Quantity Ordered</th>\n",
              "      <th>Price Each</th>\n",
              "      <th>Order Date</th>\n",
              "      <th>Purchase Address</th>\n",
              "      <th>Month</th>\n",
              "      <th>Sales</th>\n",
              "      <th>City</th>\n",
              "      <th>Hour</th>\n",
              "      <th>Minute</th>\n",
              "    </tr>\n",
              "  </thead>\n",
              "  <tbody>\n",
              "    <tr>\n",
              "      <th>0</th>\n",
              "      <td>162009</td>\n",
              "      <td>iPhone</td>\n",
              "      <td>1</td>\n",
              "      <td>700.00</td>\n",
              "      <td>2019-03-28 20:59:00</td>\n",
              "      <td>942 Church St, Austin, TX 73301</td>\n",
              "      <td>3</td>\n",
              "      <td>700.00</td>\n",
              "      <td>Austin (TX)</td>\n",
              "      <td>20</td>\n",
              "      <td>59</td>\n",
              "    </tr>\n",
              "    <tr>\n",
              "      <th>1</th>\n",
              "      <td>162009</td>\n",
              "      <td>Lightning Charging Cable</td>\n",
              "      <td>1</td>\n",
              "      <td>14.95</td>\n",
              "      <td>2019-03-28 20:59:00</td>\n",
              "      <td>942 Church St, Austin, TX 73301</td>\n",
              "      <td>3</td>\n",
              "      <td>14.95</td>\n",
              "      <td>Austin (TX)</td>\n",
              "      <td>20</td>\n",
              "      <td>59</td>\n",
              "    </tr>\n",
              "    <tr>\n",
              "      <th>2</th>\n",
              "      <td>162009</td>\n",
              "      <td>Wired Headphones</td>\n",
              "      <td>2</td>\n",
              "      <td>11.99</td>\n",
              "      <td>2019-03-28 20:59:00</td>\n",
              "      <td>942 Church St, Austin, TX 73301</td>\n",
              "      <td>3</td>\n",
              "      <td>23.98</td>\n",
              "      <td>Austin (TX)</td>\n",
              "      <td>20</td>\n",
              "      <td>59</td>\n",
              "    </tr>\n",
              "    <tr>\n",
              "      <th>3</th>\n",
              "      <td>162010</td>\n",
              "      <td>Bose SoundSport Headphones</td>\n",
              "      <td>1</td>\n",
              "      <td>99.99</td>\n",
              "      <td>2019-03-17 05:39:00</td>\n",
              "      <td>261 10th St, San Francisco, CA 94016</td>\n",
              "      <td>3</td>\n",
              "      <td>99.99</td>\n",
              "      <td>San Francisco (CA)</td>\n",
              "      <td>5</td>\n",
              "      <td>39</td>\n",
              "    </tr>\n",
              "    <tr>\n",
              "      <th>4</th>\n",
              "      <td>162011</td>\n",
              "      <td>34in Ultrawide Monitor</td>\n",
              "      <td>1</td>\n",
              "      <td>379.99</td>\n",
              "      <td>2019-03-10 00:01:00</td>\n",
              "      <td>764 13th St, San Francisco, CA 94016</td>\n",
              "      <td>3</td>\n",
              "      <td>379.99</td>\n",
              "      <td>San Francisco (CA)</td>\n",
              "      <td>0</td>\n",
              "      <td>1</td>\n",
              "    </tr>\n",
              "  </tbody>\n",
              "</table>\n",
              "</div>"
            ],
            "text/plain": [
              "  Order ID                     Product  ...  Hour  Minute\n",
              "0   162009                      iPhone  ...    20      59\n",
              "1   162009    Lightning Charging Cable  ...    20      59\n",
              "2   162009            Wired Headphones  ...    20      59\n",
              "3   162010  Bose SoundSport Headphones  ...     5      39\n",
              "4   162011      34in Ultrawide Monitor  ...     0       1\n",
              "\n",
              "[5 rows x 11 columns]"
            ]
          },
          "metadata": {},
          "execution_count": 19
        }
      ]
    },
    {
      "cell_type": "code",
      "metadata": {
        "id": "lZdF8OCOgWMK",
        "colab": {
          "base_uri": "https://localhost:8080/",
          "height": 265
        },
        "outputId": "5ac99799-e9be-4edb-ff44-23fe0b2b1a17"
      },
      "source": [
        "hours = [hour for hour,df in all_data.groupby('Hour')]\n",
        "plt.plot(hours,all_data.groupby(['Hour']).count())\n",
        "plt.xticks(hours)\n",
        "plt.grid()"
      ],
      "execution_count": null,
      "outputs": [
        {
          "output_type": "display_data",
          "data": {
            "image/png": "[encoded data removed]",
            "text/plain": [
              "<Figure size 432x288 with 1 Axes>"
            ]
          },
          "metadata": {
            "needs_background": "light"
          }
        }
      ]
    },
    {
      "cell_type": "markdown",
      "metadata": {
        "id": "Ih2C6r6aosGJ"
      },
      "source": [
        "##What products are most often sold together?"
      ]
    },
    {
      "cell_type": "code",
      "metadata": {
        "colab": {
          "base_uri": "https://localhost:8080/",
          "height": 330
        },
        "id": "BLjF7SDCom8Y",
        "outputId": "ad331c3e-d440-4f52-9db4-4914b206e571"
      },
      "source": [
        "df = all_data[all_data['Order ID'].duplicated(keep=False)]\n",
        "\n",
        "df['Grouped'] = df.groupby('Order ID')['Product'].transform(lambda x: ','.join(x))\n",
        "\n",
        "df = df[['Order ID','Grouped']].drop_duplicates()\n",
        "\n",
        "df.head()"
      ],
      "execution_count": null,
      "outputs": [
        {
          "output_type": "stream",
          "text": [
            "/usr/local/lib/python3.7/dist-packages/ipykernel_launcher.py:3: SettingWithCopyWarning: \n",
            "A value is trying to be set on a copy of a slice from a DataFrame.\n",
            "Try using .loc[row_indexer,col_indexer] = value instead\n",
            "\n",
            "See the caveats in the documentation: https://pandas.pydata.org/pandas-docs/stable/user_guide/indexing.html#returning-a-view-versus-a-copy\n",
            "  This is separate from the ipykernel package so we can avoid doing imports until\n"
          ],
          "name": "stderr"
        },
        {
          "output_type": "execute_result",
          "data": {
            "text/html": [
              "<div>\n",
              "<style scoped>\n",
              "    .dataframe tbody tr th:only-of-type {\n",
              "        vertical-align: middle;\n",
              "    }\n",
              "\n",
              "    .dataframe tbody tr th {\n",
              "        vertical-align: top;\n",
              "    }\n",
              "\n",
              "    .dataframe thead th {\n",
              "        text-align: right;\n",
              "    }\n",
              "</style>\n",
              "<table border=\"1\" class=\"dataframe\">\n",
              "  <thead>\n",
              "    <tr style=\"text-align: right;\">\n",
              "      <th></th>\n",
              "      <th>Order ID</th>\n",
              "      <th>Grouped</th>\n",
              "    </tr>\n",
              "  </thead>\n",
              "  <tbody>\n",
              "    <tr>\n",
              "      <th>0</th>\n",
              "      <td>162009</td>\n",
              "      <td>iPhone,Lightning Charging Cable,Wired Headphones</td>\n",
              "    </tr>\n",
              "    <tr>\n",
              "      <th>30</th>\n",
              "      <td>162037</td>\n",
              "      <td>iPhone,Lightning Charging Cable</td>\n",
              "    </tr>\n",
              "    <tr>\n",
              "      <th>60</th>\n",
              "      <td>162066</td>\n",
              "      <td>AA Batteries (4-pack),USB-C Charging Cable</td>\n",
              "    </tr>\n",
              "    <tr>\n",
              "      <th>66</th>\n",
              "      <td>162071</td>\n",
              "      <td>Vareebadd Phone,USB-C Charging Cable</td>\n",
              "    </tr>\n",
              "    <tr>\n",
              "      <th>78</th>\n",
              "      <td>162082</td>\n",
              "      <td>Vareebadd Phone,Wired Headphones</td>\n",
              "    </tr>\n",
              "  </tbody>\n",
              "</table>\n",
              "</div>"
            ],
            "text/plain": [
              "   Order ID                                           Grouped\n",
              "0    162009  iPhone,Lightning Charging Cable,Wired Headphones\n",
              "30   162037                   iPhone,Lightning Charging Cable\n",
              "60   162066        AA Batteries (4-pack),USB-C Charging Cable\n",
              "66   162071              Vareebadd Phone,USB-C Charging Cable\n",
              "78   162082                  Vareebadd Phone,Wired Headphones"
            ]
          },
          "metadata": {},
          "execution_count": 21
        }
      ]
    },
    {
      "cell_type": "code",
      "metadata": {
        "id": "t4_V8SzigWTO",
        "colab": {
          "base_uri": "https://localhost:8080/"
        },
        "outputId": "4ba6f224-5205-4c9a-9dc8-85703ed76e8e"
      },
      "source": [
        "from itertools import combinations\n",
        "from collections import Counter\n",
        "\n",
        "count = Counter()\n",
        "\n",
        "for row in df['Grouped']:\n",
        "  row_list = row.split(',')\n",
        "  count.update(Counter(combinations(row_list,2)))\n",
        "\n",
        "count.most_common(10)"
      ],
      "execution_count": null,
      "outputs": [
        {
          "output_type": "execute_result",
          "data": {
            "text/plain": [
              "[(('iPhone', 'Lightning Charging Cable'), 1005),\n",
              " (('Google Phone', 'USB-C Charging Cable'), 987),\n",
              " (('iPhone', 'Wired Headphones'), 447),\n",
              " (('Google Phone', 'Wired Headphones'), 414),\n",
              " (('Vareebadd Phone', 'USB-C Charging Cable'), 361),\n",
              " (('iPhone', 'Apple Airpods Headphones'), 360),\n",
              " (('Google Phone', 'Bose SoundSport Headphones'), 220),\n",
              " (('USB-C Charging Cable', 'Wired Headphones'), 160),\n",
              " (('Vareebadd Phone', 'Wired Headphones'), 143),\n",
              " (('Lightning Charging Cable', 'Wired Headphones'), 92)]"
            ]
          },
          "metadata": {},
          "execution_count": 22
        }
      ]
    },
    {
      "cell_type": "markdown",
      "metadata": {
        "id": "0yOS5cCHsUA_"
      },
      "source": [
        "##What product sold the most? WHy do you think it sold the most?"
      ]
    },
    {
      "cell_type": "code",
      "metadata": {
        "id": "GNcx_4f2gWYv",
        "colab": {
          "base_uri": "https://localhost:8080/",
          "height": 391
        },
        "outputId": "ca9e6667-833e-432a-ab10-592044dde806"
      },
      "source": [
        "product_group = all_data.groupby('Product')\n",
        "quantity_ordered = product_group.sum()['Quantity Ordered']\n",
        "\n",
        "products = [product for product,df in product_group]\n",
        "\n",
        "plt.bar(products,quantity_ordered)\n",
        "plt.xticks(products,rotation='vertical',size=8)\n",
        "plt.ylabel('Quantity Ordered')\n",
        "plt.xlabel('Product')\n",
        "plt.show()"
      ],
      "execution_count": null,
      "outputs": [
        {
          "output_type": "display_data",
          "data": {
            "image/png": "[encoded data removed]",
            "text/plain": [
              "<Figure size 432x288 with 1 Axes>"
            ]
          },
          "metadata": {
            "needs_background": "light"
          }
        }
      ]
    },
    {
      "cell_type": "code",
      "metadata": {
        "id": "kg-xzwM1gWeN",
        "colab": {
          "base_uri": "https://localhost:8080/",
          "height": 391
        },
        "outputId": "9eb48fb8-434e-42c8-fc6a-11da3c2180db"
      },
      "source": [
        "prices = all_data.groupby('Product').mean()['Price Each']\n",
        "\n",
        "fig,ax1 = plt.subplots()\n",
        "\n",
        "ax2 = ax1.twinx()\n",
        "ax1.bar(products,quantity_ordered,color='g')\n",
        "ax2.plot(products,prices,'b-')\n",
        "\n",
        "ax1.set_xlabel('Product')\n",
        "ax1.set_ylabel('Quantity Ordered')\n",
        "ax2.set_ylabel('Prices')\n",
        "\n",
        "ax1.set_xticklabels(products,rotation='vertical',size=8)\n",
        "plt.show()\n",
        "#print(prices)"
      ],
      "execution_count": null,
      "outputs": [
        {
          "output_type": "display_data",
          "data": {
            "image/png": "[encoded data removed]",
            "text/plain": [
              "<Figure size 432x288 with 2 Axes>"
            ]
          },
          "metadata": {
            "needs_background": "light"
          }
        }
      ]
    },
    {
      "cell_type": "code",
      "metadata": {
        "id": "9ahRIBi0gWkK"
      },
      "source": [
        "all_months_data.to_csv(\"all_data.csv\", index=False)"
      ],
      "execution_count": null,
      "outputs": []
    },
    {
      "cell_type": "code",
      "metadata": {
        "id": "WrvyYSRTgWqM"
      },
      "source": [
        ""
      ],
      "execution_count": null,
      "outputs": []
    },
    {
      "cell_type": "code",
      "metadata": {
        "id": "qkn0p-_ugWuY"
      },
      "source": [
        ""
      ],
      "execution_count": null,
      "outputs": []
    }
  ]
}